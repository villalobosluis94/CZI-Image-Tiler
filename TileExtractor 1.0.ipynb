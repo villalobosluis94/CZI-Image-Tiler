{
 "cells": [
  {
   "cell_type": "code",
   "execution_count": 1,
   "id": "73d38332",
   "metadata": {},
   "outputs": [],
   "source": [
    "import shapely\n",
    "import os\n",
    "from patchify import patchify\n",
    "from shapely import geometry\n",
    "from shapely.geometry import Point, MultiPoint\n",
    "import json\n",
    "import slideio\n",
    "import numpy as np\n",
    "import cv2\n",
    "import geojson\n",
    "from ast import literal_eval"
   ]
  },
  {
   "cell_type": "code",
   "execution_count": 2,
   "id": "3fda819a",
   "metadata": {},
   "outputs": [],
   "source": [
    "def GeoData (file):\n",
    "    annotation_geojson_file = open(file)\n",
    "    global collection \n",
    "    collection = geojson.load(annotation_geojson_file)"
   ]
  },
  {
   "cell_type": "code",
   "execution_count": 3,
   "id": "57e5aaed",
   "metadata": {},
   "outputs": [],
   "source": [
    "def ExampleTiling(path, imagetype):\n",
    "    slide = slideio.open_slide(path,imagetype)\n",
    "    scene = slide.get_scene(0)\n",
    "    image_resX,image_resY = scene.size\n",
    "    image = scene.read_block((0,0,0,0),(image_resX//10,image_resY//10))\n",
    "    image2 = scene.read_block((0,0,0,0),(image_resX,image_resY))\n",
    "    str_search = slide.file_path\n",
    "    slide_name = str_search.split('\\\\')[-1].split('.')[0]\n",
    "    isClosed = True\n",
    "    thickness = 5\n",
    "    for feature in collection[\"features\"]:\n",
    "        anno_name = str(feature['properties']['classification'][\"name\"])\n",
    "        coordinates = str(feature['geometry']['coordinates'])\n",
    "        directory = (r\"C:\\Users\\villa\\Desktop\\Work Files\\Tiles\\\\\" + anno_name)\n",
    "        if not os.path.exists(directory):\n",
    "            os.mkdir(directory)\n",
    "        os.chdir(directory)\n",
    "        color = (34,65,200)\n",
    "        pts = (literal_eval(coordinates))\n",
    "        pts = np.array(pts)\n",
    "        \n",
    "        makeMask = cv2.drawContours(image2, pts, -1, color=(255, 0, 0), thickness=cv2.FILLED)\n",
    "        mask = np.zeros_like(makeMask)\n",
    "        cv2.drawContours(mask,pts,0,(255,255,255),-1)\n",
    "        maskName = directory+\"\\\\\"+anno_name+\" Mask.png\"\n",
    "        cv2.imwrite(maskName,mask)\n",
    "        maskSlide = slideio.open_slide(maskName,\"GDAL\")\n",
    "        maskScene = maskSlide.get_scene(0)\n",
    "        \n",
    "        x, y, width, height = cv2.boundingRect(pts)\n",
    "        area_image = scene.read_block((0,0,0,0),(image_resX//10,image_resY//10))\n",
    "        for y_coord in range(y,y+height,512):\n",
    "            for x_coord in range(x,x+width,512):\n",
    "                testCoord = (x_coord,y_coord)\n",
    "                pointTest = cv2.pointPolygonTest(pts,testCoord,False)\n",
    "                if pointTest>0:\n",
    "                    drawPoly = pts//10\n",
    "                    coords = (x_coord,y_coord)\n",
    "                    coord_str = (\"X=\"+str(x_coord)+\", Y=\"+str(y_coord))\n",
    "                    tile_image = scene.read_block((x_coord,y_coord,512,512),(image_resX//10,image_resY//10))\n",
    "                    mask_image = maskScene.read_block((x_coord,y_coord,512,512),(image_resX//10,image_resY//10))\n",
    "                    cv2.imwrite(slide_name+\"[\"+coord_str+\"]\"+\".png\",tile_image)\n",
    "                    cv2.imwrite(slide_name+\"[\"+coord_str+\"]\"+\" Mask.png\",mask_image)\n",
    "                    cv2.polylines(area_image,[drawPoly],isClosed,color,thickness)\n",
    "                    cv2.circle(area_image,(x_coord//10,y_coord//10),radius = 5,color = (255,0,0),thickness = -1)\n",
    "                else:\n",
    "                    pass\n",
    "        cv2.imwrite(\"area Covered.png\",area_image)\n",
    "    dicPath = slide.file_path.split(\"CZI\")[0]"
   ]
  },
  {
   "cell_type": "code",
   "execution_count": 4,
   "id": "7c2c1ab2",
   "metadata": {},
   "outputs": [],
   "source": [
    "GeoData(r\"C:\\Users\\villa\\Desktop\\Work Files\\QUpath Example for PaQuo forum\\QuPath deidentified\\export\\file.geojson\") \n",
    "ExampleTiling(r\"C:\\Users\\villa\\Desktop\\Work Files\\QUpath Example for PaQuo forum\\CZI\\HE\\MLC 1__HE_.czi\",\"CZI\")"
   ]
  }
 ],
 "metadata": {
  "kernelspec": {
   "display_name": "Python 3 (ipykernel)",
   "language": "python",
   "name": "python3"
  },
  "language_info": {
   "codemirror_mode": {
    "name": "ipython",
    "version": 3
   },
   "file_extension": ".py",
   "mimetype": "text/x-python",
   "name": "python",
   "nbconvert_exporter": "python",
   "pygments_lexer": "ipython3",
   "version": "3.9.16"
  }
 },
 "nbformat": 4,
 "nbformat_minor": 5
}
